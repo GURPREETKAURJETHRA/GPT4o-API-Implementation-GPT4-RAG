{
  "cells": [
    {
      "cell_type": "markdown",
      "metadata": {
        "id": "EqIzen_ZoLZJ"
      },
      "source": [
        "# OpenAI Models\n",
        "\n",
        "You can run this notebook regularly to see if the model(s) you are using are facing deprecation or not. It provides insight.\n",
        "\n",
        "You can also consult [OpenAI Deprecations](https://platform.openai.com/docs/deprecations) at the same time.\n",
        "\n",
        "The list come in handy when the announced [models](https://platform.openai.com/docs/models) are actually available through APIs.\n",
        "\n",
        "To get more information when the action is happening, join the [OpenAI Community](https://community.openai.com/).\n",
        "\n"
      ]
    },
    {
      "cell_type": "markdown",
      "metadata": {
        "id": "S0fzH6WbooVo"
      },
      "source": [
        "Installing OpenAI API for all models"
      ]
    },
    {
      "cell_type": "code",
      "execution_count": null,
      "metadata": {
        "colab": {
          "base_uri": "https://localhost:8080/"
        },
        "id": "EOYMxwshoKdh",
        "outputId": "65eba171-0e1a-49fd-cc08-9b7974af3abb"
      },
      "outputs": [],
      "source": [
        "try:\n",
        "  import openai\n",
        "except:\n",
        "  !pip install openai\n",
        "  import openai"
      ]
    },
    {
      "cell_type": "markdown",
      "metadata": {
        "id": "qwyMWqaRpnDL"
      },
      "source": [
        "Retrieving the API key from a file"
      ]
    },
    {
      "cell_type": "code",
      "execution_count": 2,
      "metadata": {
        "colab": {
          "base_uri": "https://localhost:8080/"
        },
        "id": "C0a2WrZSpxo_",
        "outputId": "bee1413c-d55a-4313-bb71-40087c06ef4e"
      },
      "outputs": [
        {
          "name": "stdout",
          "output_type": "stream",
          "text": [
            "Mounted at /content/drive\n"
          ]
        }
      ],
      "source": [
        "from google.colab import drive\n",
        "drive.mount('/content/drive')"
      ]
    },
    {
      "cell_type": "code",
      "execution_count": 3,
      "metadata": {
        "id": "ZrJmEGQUpzYs"
      },
      "outputs": [],
      "source": [
        "f = open(\"drive/MyDrive/files/api_key.txt\", \"r\")\n",
        "API_KEY=f.readline()\n",
        "f.close()"
      ]
    },
    {
      "cell_type": "markdown",
      "metadata": {
        "id": "fEjFSzzhqhtW"
      },
      "source": [
        "Authentification\n",
        "\n",
        "Setting the environment variable OPENAI_API_KEY to the value of API_KEY"
      ]
    },
    {
      "cell_type": "code",
      "execution_count": 4,
      "metadata": {
        "id": "2droMjnjp8KL"
      },
      "outputs": [],
      "source": [
        "import os\n",
        "os.environ['OPENAI_API_KEY'] =API_KEY\n",
        "openai.api_key = os.getenv(\"OPENAI_API_KEY\")"
      ]
    },
    {
      "cell_type": "markdown",
      "metadata": {
        "id": "a_rhxrm1rGyS"
      },
      "source": [
        "Listing available OpenAI models and engines"
      ]
    },
    {
      "cell_type": "code",
      "execution_count": 5,
      "metadata": {
        "id": "uFn-ph88rObF"
      },
      "outputs": [],
      "source": [
        "elist=openai.models.list()"
      ]
    },
    {
      "cell_type": "code",
      "execution_count": null,
      "metadata": {
        "colab": {
          "base_uri": "https://localhost:8080/"
        },
        "id": "I7-_7nsou_Qh",
        "outputId": "83fb3935-cbd8-4116-f98c-b80048f62028"
      },
      "outputs": [],
      "source": [
        "print(elist)"
      ]
    },
    {
      "cell_type": "code",
      "execution_count": null,
      "metadata": {
        "colab": {
          "base_uri": "https://localhost:8080/"
        },
        "id": "GnkzEzp8r_xx",
        "outputId": "5631c6ba-0fc9-443f-d470-407f8d985b77"
      },
      "outputs": [],
      "source": [
        "count = 0\n",
        "for model in elist:\n",
        "    count += 1\n",
        "\n",
        "print(\"Number of models:\", count)"
      ]
    },
    {
      "cell_type": "code",
      "execution_count": null,
      "metadata": {
        "colab": {
          "base_uri": "https://localhost:8080/",
          "height": 423
        },
        "id": "3dDZWIYuv85S",
        "outputId": "09bcbf72-244b-41a4-fc95-c7b423a66cf2"
      },
      "outputs": [],
      "source": [
        "import pandas as pd\n",
        "\n",
        "model_data = []\n",
        "\n",
        "# Iterate through each model in elist and collect the required information\n",
        "for model in elist:\n",
        "    model_info = {\n",
        "        'id': model.id,\n",
        "        'created': model.created,\n",
        "        'object': model.object,\n",
        "        'owned_by': model.owned_by\n",
        "    }\n",
        "    model_data.append(model_info)\n",
        "\n",
        "# Create a DataFrame from the collected data\n",
        "df = pd.DataFrame(model_data)\n",
        "\n",
        "# Sort the DataFrame by the 'id' column\n",
        "df_sorted = df.sort_values(by='id')\n",
        "\n",
        "# Display the sorted DataFrame\n",
        "df_sorted"
      ]
    }
  ],
  "metadata": {
    "colab": {
      "authorship_tag": "ABX9TyOxO/8PW03ER59bfZkxUZ9y",
      "provenance": []
    },
    "kernelspec": {
      "display_name": "Python 3",
      "name": "python3"
    },
    "language_info": {
      "name": "python"
    }
  },
  "nbformat": 4,
  "nbformat_minor": 0
}
